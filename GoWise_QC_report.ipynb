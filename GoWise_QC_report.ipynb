{
  "nbformat": 4,
  "nbformat_minor": 0,
  "metadata": {
    "colab": {
      "name": "GoWise QC report.ipynb",
      "provenance": [],
      "collapsed_sections": [],
      "authorship_tag": "ABX9TyP6jW116o/cnbOBokjqn8vI",
      "include_colab_link": true
    },
    "kernelspec": {
      "name": "python3",
      "display_name": "Python 3"
    }
  },
  "cells": [
    {
      "cell_type": "markdown",
      "metadata": {
        "id": "view-in-github",
        "colab_type": "text"
      },
      "source": [
        "<a href=\"https://colab.research.google.com/github/kaispace30098/CustomerService_QC_report/blob/main/GoWise_QC_report.ipynb\" target=\"_parent\"><img src=\"https://colab.research.google.com/assets/colab-badge.svg\" alt=\"Open In Colab\"/></a>"
      ]
    },
    {
      "cell_type": "markdown",
      "metadata": {
        "id": "rlt7Qcn3_5Jw"
      },
      "source": [
        "![images.png](data:image/png;base64,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)\n",
        "\n",
        "#**Ming's Mark Quality Control Weekly Report**\n"
      ]
    },
    {
      "cell_type": "markdown",
      "metadata": {
        "id": "lA0Pfk-bCs68"
      },
      "source": [
        "####1. Please make sure old sheet is deleted and new sheet is pasted to the google doc(Freshdesk Raw Data): \n",
        "https://docs.google.com/spreadsheets/d/1NjWFYhEpKPhnWsL22ZIJ4gpNkbBlCGk6E-pYHVOkCuc/edit#gid=1480829085"
      ]
    },
    {
      "cell_type": "markdown",
      "metadata": {
        "id": "Pu-Mzz7HDRs9"
      },
      "source": [
        "####2. Press \"Run first!\" button to Connect to the Google Sheet, it will ask you to get the Authorization Code from the Google account.\n",
        "\n",
        "---\n",
        "\n"
      ]
    },
    {
      "cell_type": "code",
      "metadata": {
        "id": "mYYtK1N3_4FK",
        "cellView": "form"
      },
      "source": [
        "#@title Run first!\n",
        "import numpy as np\n",
        "import pandas as pd\n",
        "from google.colab import auth\n",
        "auth.authenticate_user()\n",
        "import gspread\n",
        "from oauth2client.client import GoogleCredentials\n",
        "gc = gspread.authorize(GoogleCredentials.get_application_default())\n",
        "wb= gc.open_by_url('https://docs.google.com/spreadsheets/d/1NjWFYhEpKPhnWsL22ZIJ4gpNkbBlCGk6E-pYHVOkCuc/edit#gid=1480829085')\n",
        "sheet = wb.worksheet('Freshdesk Raw Data')\n",
        "data = sheet.get_all_values()\n",
        "df0=pd.DataFrame(data)\n",
        "df0.columns = df0.iloc[0]\n",
        "df0 = df0.iloc[1:]\n",
        "#Store the column information into numpy array tag\n",
        "tag_col=df0['Tags'].str.lower()\n",
        "a=tag_col.to_numpy()\n",
        "tag=a.astype(str)\n",
        "#create an array to store all the situations \n",
        "##YOU CAN UPDATE THE SITUATION\n",
        "cond_list=np.array(['constant blink and beep','constant flickering','constant flickering','cooking takes too long','cosmetic damage','damaged prong','defective control panel','defective fan','defective power cord','defective power button','defective preset light','defective time button','defective temp button','defective temp control','displays partial numbers','e1 ','e2','e3','light stays on','heating issue','melted prongs','no beeping','door damage','no power','not cooking properly','power cord damaged','power cord melted','short circuit','timer counts down rapidly','timer not counting down','turns itself on','turns off during cycle','888 on screen','accessory damaged','accessory rusting','af blow up','af fire','af gets too hot','af melt','af oven broken handle','af oven fire','af oven gets too hot','af oven handle warped','af oven light defective','af oven light turns off','af oven melt','af oven smoke','af oven temp inaccuracy','af oven unit damaged','af oven unit leaking','af smoke','af unit damaged','af unit dent & scratched','af unit interior rusting','af unit leaking','basket damaged','basket dented','basket not flush in unit','basket nub damaged','basket peeling','basket rusting','basket scratched','basket sharp rim','basket stuck in pan','broken handle (due to handle detachment)',\"cage won't fit\",'control panel peeling','countertop damaged','crisper tray damaged','crisper tray peeling','crisper tray scratched','crisper tray rusting','crisper tray warped','crooked racks','defective light button','defective threading',\"defective time dial\",\"divider damaged\",\"doesn't power off\",'door hinge broken','door loose',\"door won't close\",\"door won't open\",\"door won't power\",\"door won't stay on unit\",'drip pan damaged','drip pan peeling','drip pan scratched','fan loose','fan noise','fan works when off','fogged up display','glass door damaged','grill tray peeling','grill tray scratched','handle button broke','handle button stuck','handle damaged (not from handle detachment)','handle detachment','handle detach updated','handle discolored','handle rusting','heating element damaged','high pitch noise','hot power cord','in celsius','interior unit scratched','loose handle','loose heating element','loose screws','mesh rack damaged','mesh rack peeling','mesh tray damaged','mesh tray not fitting','mesh tray rusting','missing rotisserie rod','no temp num display','no time/temp display','oven door damaged','oven rack damaged','pan cover damaged','pan cover discolored','pan damaged','pan leaking','pan hard to close','pan hard to open','pan not flush in unit','pan peeling','pan rusting','pan scratched',\"pan won't activate power\",'pause during cycle','power trigger damaged','power when opened',\"racks won't fit\",'rattling inside unit','roasting tray peeling',\"rod won't fit\",'rotisserie cage damaged','rotisserie cage unlatch','rotisserie clicking','rotisserie not spinning','rotisserie holder out','runs w/o pan','shallow mesh basket rust','sharp screw','sharp thumb bolt','smell','steak cage too short',\"steak cage won't fit\",'steam leaking','stuff in glass door','thumb bolt stuck','ticking noise','too much heat','trips breaker','wire rack not fitting',\"won't close when hot\",\"won't open\",'baking pan damaged','baking pan peeling','baking pan rusting','baking pan scratched','clamp tongs damaged','kabob rack damaged','pizza pan damaged','pizza pan peeling','pizza pan scratched','standard rack damaged',\"can't cancel cycle\",'condensation in display','damaged lid','damaged lid handle','defective lid','e4','floater valve blocked','heating element flaking','hole in pot','knob damaged','lid handle loose',\"lid won't close\",'metal plate damaged','metal plate rust','pc base handle loose','pc blow up','pc fire','pc gets too hot','pc melt','pc oven light defective',\"pc oven won't open\",'pc pressure too high','pc unit damaged','pot damaged','pot peeling','pot scratched','pressure button fell out','pressure button issue','sealing ring damaged','steam from floater valve','steam from knob','steam from lid','steam from lid handle',\"timer doesn't display\",'whistling noise',\"won't pressurize\",\"won't release pressure\",'sg handle missing','blender issues','beep and crack noise','blades broken','blades rusted','blender base damaged','blender loose seal ring','blender noise','brown liquid','mold/moisture pitcher','particles in drinks','pitcher leaking','slides during cycle','arm cuff not inflating','inaccurate reading','body scale damaged','incorrect measurement','no bia measurement','scale screen defective','flashlight damaged','defective inverter','fault mode','inverter damaged','inverter fire','low ac output','low power output','low voltage output','no ac output','no power output','output voltage unstable','red light protect mode','remote damaged','remote defective','smoke','buzzing noise','base damaged','defective led','defective led leaves','defective led trunk','led car plug damaged','led car plug defective','led damaged','led faded','lens damaged','chair damaged','chair handle damaged','chair hinge unlocks','chair - storage bag ripped','mat damaged','mat faded','mat size incorrect','mat stain',\"mat won't lie flat\",'reversed','defective adapter','outlet blocked','outlet damaged'])\n",
        "#define two empty array to store the condition and models\n",
        "cond=np.array([])\n",
        "sku=np.array([])\n",
        "for j in range(len(cond_list)):\n",
        "    for i in range(len(tag)):\n",
        "        if cond_list[j] in tag[i].astype(str): \n",
        "            #print(cond_list[j],tag[i].split(' ')[0])\n",
        "            cond=np.append(cond,cond_list[j])\n",
        "            sku=np.append(sku,tag[i].split(' ')[0])\n",
        "sku=np.core.defchararray.upper(sku)\n",
        "#from Numpy to Pandas\n",
        "column1=['General condition']\n",
        "df_test1 = pd.DataFrame(cond,columns=column1)\n",
        "\n",
        "column2=['SKU']\n",
        "df_test2 = pd.DataFrame(sku,columns=column2)\n",
        "\n",
        "df = pd.concat([df_test1, df_test2], axis=1)"
      ],
      "execution_count": 1,
      "outputs": []
    },
    {
      "cell_type": "markdown",
      "metadata": {
        "id": "9t2U3d3M_wu9"
      },
      "source": [
        "#Generate the results"
      ]
    },
    {
      "cell_type": "markdown",
      "metadata": {
        "id": "JWVU9YdxBoP_"
      },
      "source": [
        "#####   General Conditions"
      ]
    },
    {
      "cell_type": "code",
      "metadata": {
        "id": "Eo6iXKpoACn3",
        "cellView": "form"
      },
      "source": [
        "#@title Run\n",
        "#SQL: group by 1. Condition , 2. Sku, count by descending order\n",
        "df1=df.groupby(['General condition','SKU']).size().to_frame('size')\n",
        "g1 = df1['size'].groupby(level=0, group_keys=False)\n",
        "pd.set_option('display.max_rows', None)\n",
        "g1_1=g1.nlargest(10)\n",
        "display(g1_1)"
      ],
      "execution_count": null,
      "outputs": []
    },
    {
      "cell_type": "markdown",
      "metadata": {
        "id": "_T3Bhf4DB5NF"
      },
      "source": [
        "##### SKUs"
      ]
    },
    {
      "cell_type": "code",
      "metadata": {
        "id": "9vkhRBRtAGWk",
        "cellView": "form"
      },
      "source": [
        "#@title Run\n",
        "#SQL: group by SKU, General Condition, count by descending order\n",
        "df2=df.groupby(['SKU','General condition']).size().to_frame('size')\n",
        "g2 = df2['size'].groupby(level=0, group_keys=False)\n",
        "g2.nlargest(10)\n",
        "pd.set_option('display.max_rows', None)\n",
        "#pd.set_printoptions(max_columns=500)\n",
        "display(g2.nlargest(10))"
      ],
      "execution_count": null,
      "outputs": []
    },
    {
      "cell_type": "markdown",
      "metadata": {
        "id": "kXWrpl6pCFtX"
      },
      "source": [
        "#####Agent breakdown"
      ]
    },
    {
      "cell_type": "code",
      "metadata": {
        "id": "uJmqNfrLAimr",
        "cellView": "form"
      },
      "source": [
        "#@title Run\n",
        "agent_count=df0.groupby(['Agent']).size()\n",
        "agent_count"
      ],
      "execution_count": null,
      "outputs": []
    },
    {
      "cell_type": "markdown",
      "metadata": {
        "id": "FGCNdXVUCZEU"
      },
      "source": [
        "#####Freshdesk Type Breakdown"
      ]
    },
    {
      "cell_type": "code",
      "metadata": {
        "id": "6t55cdJ9AtCk",
        "cellView": "form"
      },
      "source": [
        "#@title Run\n",
        "case_count=df0.groupby(['Type']).size()\n",
        "case_count"
      ],
      "execution_count": null,
      "outputs": []
    },
    {
      "cell_type": "markdown",
      "metadata": {
        "id": "zj_9-uCRCYUb"
      },
      "source": [
        "## Download the sheet for Pivot Table"
      ]
    },
    {
      "cell_type": "code",
      "metadata": {
        "id": "w9pqdkoYt9vF",
        "cellView": "form"
      },
      "source": [
        "#@title Get the Table\n",
        "df3=df[['General condition','SKU']]\n",
        "df3['count']=1\n",
        "from google.colab import files\n",
        "df3.to_csv('filename.csv') \n",
        "files.download('filename.csv')"
      ],
      "execution_count": null,
      "outputs": []
    }
  ]
}